{
 "cells": [
  {
   "cell_type": "code",
   "execution_count": 13,
   "metadata": {},
   "outputs": [
    {
     "name": "stdout",
     "output_type": "stream",
     "text": [
      "\u001b[34mConnecting to --port=/dev/ttyUSB4 --baud=115200 \u001b[0m\n",
      "\u001b[34mReady.\n",
      "\u001b[0m"
     ]
    }
   ],
   "source": [
    "%serialconnect"
   ]
  },
  {
   "cell_type": "code",
   "execution_count": null,
   "metadata": {},
   "outputs": [],
   "source": [
    "# below is the esp8266 version\n",
    "#      RST          |  GPIO1   TX\n",
    "#       A0          |  GPIO3   RX\n",
    "#       D0  GPIO16  |  GPIO5   D1  SCL\n",
    "# SCK   D5  GPIO14  |  GPIO4   D2  SDA\n",
    "# MISO  D6  GPIO12  |  GPIO0   D3\n",
    "# MOSI  D7  GPIO13  |  GPIO2   D4  LED\n",
    "# SS    D8  GPIO15  |          GND\n",
    "#      3V3          |          5V\n",
    "\n",
    "# You need the esp8266 code built with mqtt_as libraries\n",
    "# See https://github.com/goatchurchprime/jupyter_micropython_developer_notebooks/blob/master/mqtt_async_projects/esp8266_commissioning_mqtt_as.ipynb"
   ]
  },
  {
   "cell_type": "code",
   "execution_count": 3,
   "metadata": {},
   "outputs": [
    {
     "name": "stdout",
     "output_type": "stream",
     "text": [
      "Sent 52 lines (1860 bytes) to stdmqttas.py.\n",
      "Sent 32 lines (969 bytes) to utils.py.\n"
     ]
    }
   ],
   "source": [
    "%sendtofile --source stdmqttas.py\n",
    "%sendtofile --quiet --source utils.py"
   ]
  },
  {
   "cell_type": "code",
   "execution_count": 14,
   "metadata": {},
   "outputs": [
    {
     "name": "stdout",
     "output_type": "stream",
     "text": [
      "Sent 12 lines (303 bytes) to config.txt.\n"
     ]
    }
   ],
   "source": [
    "%sendtofile config.txt\n",
    "\n",
    "wifiname        DoESLiverpool\n",
    "wifipassword    decafbad00\n",
    "mqttbroker      test.mosquitto.org\n",
    "pinled          2\n",
    "boardname       miniwheels1\n",
    "mAen            13\n",
    "mAfore          0\n",
    "mAback          16\n",
    "mBen            15\n",
    "mBfore          14\n",
    "mBback          12"
   ]
  },
  {
   "cell_type": "code",
   "execution_count": 15,
   "metadata": {},
   "outputs": [
    {
     "name": "stdout",
     "output_type": "stream",
     "text": [
      "serial exception on close write failed: [Errno 5] Input/output error\n",
      "\u001b[34mConnecting to --port=/dev/ttyUSB5 --baud=115200 \u001b[0m\n",
      "\u001b[34mReady.\n",
      "\u001b[0m"
     ]
    }
   ],
   "source": [
    "%serialconnect"
   ]
  },
  {
   "cell_type": "code",
   "execution_count": 16,
   "metadata": {},
   "outputs": [
    {
     "name": "stdout",
     "output_type": "stream",
     "text": [
      "state: 5 -> 0 (0)\n",
      "rm 0\n",
      "del if0\n",
      "mode : softAP(2e:f4:32:4a:37:01)\n",
      "topicstem b'miniwheels1'\n",
      "mode : sta(2c:f4:32:4a:37:01) + softAP(2e:f4:32:4a:37:01)\n",
      "#6 ets_task(4020f4d8, 28, 3fff9340, 10)\n",
      "add if0\n",
      "sleep disable\n",
      "await connecting to: DoESLiverpool test.mosquitto.org\n",
      ".scandone\n",
      "state: 0 -> 2 (b0)\n",
      "state: 2 -> 3 (0)\n",
      "state: 3 -> 5 (10)\n",
      "add 0\n",
      "aid 15\n",
      "cnt \n",
      "\n",
      "connected with DoESLiverpool, channel 6\n",
      "dhcp client start...\n",
      "ip:10.0.36.194,mask:255.0.0.0,gw:10.0.0.1\n",
      "Checking WiFi integrity.\n",
      ".Got reliable connection\n",
      "Connecting to broker.\n",
      "Connected to broker.\n",
      "*** connected:\n",
      "subscribing\n",
      "ipnumber 10.0.36.194\n",
      "subscribing to b'miniwheels1/cmd' b'miniwheels1/wheels'\n",
      "b'miniwheels1/wheels' b'1023 0 1 1023 1 0 200'\n",
      "b'miniwheels1/wheels' b'0 0 0 0 0 0 10'\n",
      "b'miniwheels1/wheels' b'1023 0 1 1023 1 0 200'\n",
      "b'miniwheels1/wheels' b'0 0 0 0 0 0 10'\n",
      "b'miniwheels1/wheels' b'800 1 0 800 0 1 200'\n",
      "b'miniwheels1/wheels' b'0 0 0 0 0 0 10'\n",
      "b'miniwheels1/wheels' b'800 1 0 800 0 1 200'\n",
      "b'miniwheels1/wheels' b'0 0 0 0 0 0 10'\n",
      "b'miniwheels1/wheels' b'1023 0 1 1023 1 0 200'\n",
      "b'miniwheels1/wheels' b'0 0 0 0 0 0 10'\n",
      "b'miniwheels1/wheels' b'1023 0 1 1023 1 0 200'\n",
      "b'miniwheels1/wheels' b'0 0 0 0 0 0 10'\n",
      "b'miniwheels1/wheels' b'800 1 0 800 0 1 200'\n",
      "b'miniwheels1/wheels' b'0 0 0 0 0 0 10'\n",
      "b'miniwheels1/wheels' b'800 1 0 800 0 1 200'\n",
      "b'miniwheels1/wheels' b'0 0 0 0 0 0 10'\n",
      "b'miniwheels1/wheels' b'1023 0 1 1023 1 0 200'\n",
      "b'miniwheels1/wheels' b'0 0 0 0 0 0 10'\n",
      "b'miniwheels1/wheels' b'1023 0 1 1023 1 0 200'\n",
      "b'miniwheels1/wheels' b'0 0 0 0 0 0 10'\n",
      "b'miniwheels1/wheels' b'800 1 0 800 0 1 200'\n",
      "b'miniwheels1/wheels' b'0 0 0 0 0 0 10'\n",
      "b'miniwheels1/wheels' b'800 1 0 800 0 1 200'\n",
      "b'miniwheels1/wheels' b'0 0 0 0 0 0 10'\n",
      "b'miniwheels1/wheels' b'800 1 0 800 0 1 200'\n",
      "b'miniwheels1/wheels' b'0 0 0 0 0 0 10'\n",
      "b'miniwheels1/wheels' b'1023 0 1 1023 1 0 200'\n",
      "b'miniwheels1/wheels' b'0 0 0 0 0 0 10'\n",
      "b'miniwheels1/wheels' b'1023 0 1 1023 1 0 200'\n",
      "b'miniwheels1/wheels' b'0 0 0 0 0 0 10'\n",
      "b'miniwheels1/wheels' b'800 1 0 800 1 0 50'\n",
      "b'miniwheels1/wheels' b'800 1 0 800 1 0 50'\n",
      "b'miniwheels1/wheels' b'0 0 0 0 0 0 10'\n",
      "b'miniwheels1/wheels' b'800 1 0 800 1 0 50'\n",
      "b'miniwheels1/wheels' b'800 1 0 800 1 0 50'\n",
      "b'miniwheels1/wheels' b'0 0 0 0 0 0 10'\n",
      "b'miniwheels1/wheels' b'800 1 0 800 1 0 50'\n",
      "b'miniwheels1/wheels' b'800 1 0 800 1 0 50'\n",
      "b'miniwheels1/wheels' b'0 0 0 0 0 0 10'\n",
      "b'miniwheels1/wheels' b'800 0 1 800 0 1 50'\n",
      "b'miniwheels1/wheels' b'800 0 1 800 0 1 50'\n",
      "b'miniwheels1/wheels' b'0 0 0 0 0 0 10'\n",
      "b'miniwheels1/wheels' b'800 0 1 800 0 1 50'\n",
      "b'miniwheels1/wheels' b'800 0 1 800 0 1 50'\n",
      "b'miniwheels1/wheels' b'0 0 0 0 0 0 10'\n",
      ".b'miniwheels1/wheels' b'0 0 0 0 0 0 10'\n",
      "\n",
      "**[ys] <class 'serial.serialutil.SerialException'>\n",
      "**[ys] read failed: device reports readiness to read but returned no data (device disconnected or multiple access on port?)\n",
      "\n",
      "\n",
      "**[ys] <class 'serial.serialutil.SerialException'>\n",
      "**[ys] read failed: device reports readiness to read but returned no data (device disconnected or multiple access on port?)\n",
      "\n"
     ]
    }
   ],
   "source": [
    "#%sendtofile main.py\n",
    "\n",
    "import os, time, sys, machine, itertools, time\n",
    "from machine import Pin, PWM\n",
    "import uasyncio as asyncio\n",
    "from stdmqttas import fconfig, config, mqttconnecttask, callbackcmdtask\n",
    "from mqtt_as import MQTTClient\n",
    "\n",
    "from stdmqttas import pinled, flashpinled, shortmac\n",
    "#flashpinled(5, 300, 300)\n",
    "import network\n",
    "network.WLAN().active(0)  # disable the connection at startup\n",
    "\n",
    "\n",
    "from machine import Pin, PWM\n",
    "mApwm = PWM(Pin(int(fconfig[\"mAen\"])))\n",
    "mAfore = Pin(int(fconfig[\"mAfore\"]), Pin.OUT)\n",
    "mAback = Pin(int(fconfig[\"mAback\"]), Pin.OUT)\n",
    "mApwm.freq(10)\n",
    "mApwm.duty(0)\n",
    "\n",
    "mBpwm = PWM(Pin(int(fconfig[\"mBen\"])))\n",
    "mBfore = Pin(int(fconfig[\"mBfore\"]), Pin.OUT)\n",
    "mBback = Pin(int(fconfig[\"mBback\"]), Pin.OUT)\n",
    "mBpwm.freq(10)\n",
    "mBpwm.duty(0)\n",
    "\n",
    "timeZeroBy = 1\n",
    "async def zeroingtask():\n",
    "    global timeZeroBy\n",
    "    while True:\n",
    "        if timeZeroBy != 0:\n",
    "            if time.ticks_ms() > timeZeroBy:\n",
    "                timeZeroBy = 0\n",
    "                mAfore.value(0)\n",
    "                mAback.value(0)\n",
    "                mBfore.value(0)\n",
    "                mBback.value(0)\n",
    "                pinled.value(1)\n",
    "        await asyncio.sleep_ms(50)\n",
    "\n",
    "\n",
    "def updatewheels(msg):\n",
    "    global timeZeroBy\n",
    "    try:\n",
    "        s = msg.split()\n",
    "        timeZeroBy = time.ticks_ms() + int(s[6])\n",
    "        mApwm.duty(int(s[0]))\n",
    "        mAfore.value(int(s[1]))\n",
    "        mAback.value(int(s[2]))\n",
    "        mBpwm.duty(int(s[3]))\n",
    "        mBfore.value(int(s[4]))\n",
    "        mBback.value(int(s[5]))\n",
    "        pinled.value(0)\n",
    "    except Exception as e:\n",
    "        print(\"Bad wheels\", msg, e)\n",
    "\n",
    "\n",
    "topicstem = fconfig[\"boardname\"].encode()\n",
    "topicboardcmd = topicstem + b\"/cmd\"\n",
    "topicboardwheels = topicstem + b\"/wheels\"\n",
    "topicstatus = topicstem+b\"/status\"\n",
    "\n",
    "print(\"topicstem\", topicstem)\n",
    "import network\n",
    "network.WLAN().active(0)  # disable the connection at startup\n",
    "\n",
    "for l in [\"500 1 0 500 1 0 1\", \"500 0 1 500 0 1 1\", \n",
    "          \"500 1 0 500 0 1 1\", \"500 0 1 500 1 0 1\", \"500 0 0 500 0 0 1\"]:\n",
    "    updatewheels(l)\n",
    "    time.sleep_ms(500)\n",
    "\n",
    "def callbackcmd(topic, msg, retained):\n",
    "    print(topic, msg)\n",
    "    if topic == topicboardcmd:\n",
    "        aloop.create_task(callbackcmdtask(client, topicreply, msg))\n",
    "    else:\n",
    "        updatewheels(msg)\n",
    "\n",
    "async def onconnecttask(client):\n",
    "    ipnumber = client._sta_if.ifconfig()[0]\n",
    "    await client.publish(topicstatus, ipnumber, retain=True)\n",
    "    await client.subscribe(topiccmd, 1)\n",
    "    \n",
    "    \n",
    "async def onconnecttask(client):\n",
    "    print(\"subscribing\")\n",
    "    ipnumber = client._sta_if.ifconfig()[0]\n",
    "    print(\"ipnumber\", ipnumber)\n",
    "    await client.publish(topicstatus, ipnumber, retain=True)\n",
    "    print(\"subscribing to\", topicboardcmd, topicboardwheels)\n",
    "    await client.subscribe(topicboardcmd, 1)\n",
    "    await client.subscribe(topicboardwheels, 1)\n",
    "    \n",
    "\n",
    "config['subs_cb'] = callbackcmd\n",
    "config['connect_coro'] = onconnecttask\n",
    "config['will'] = (topicstatus, \"offline\", True)\n",
    "client = MQTTClient(config)\n",
    "client.DEBUG = True\n",
    "  \n",
    "aloop = asyncio.get_event_loop()\n",
    "aloop.create_task(zeroingtask())\n",
    "aloop.create_task(mqttconnecttask(client))\n",
    "aloop.run_forever()\n",
    "    "
   ]
  },
  {
   "cell_type": "code",
   "execution_count": 8,
   "metadata": {},
   "outputs": [
    {
     "name": "stdout",
     "output_type": "stream",
     "text": [
      "serial exception on close write failed: [Errno 5] Input/output error\n",
      "\u001b[34mConnecting to --port=/dev/ttyUSB1 --baud=115200 \u001b[0m\n",
      "\u001b[34mReady.\n",
      "\u001b[0m"
     ]
    }
   ],
   "source": [
    "%serialconnect"
   ]
  },
  {
   "cell_type": "code",
   "execution_count": 10,
   "metadata": {},
   "outputs": [
    {
     "name": "stdout",
     "output_type": "stream",
     "text": [
      "PWM(5, freq=10, duty=0)\r\n"
     ]
    }
   ],
   "source": [
    "print(mApwm)"
   ]
  },
  {
   "cell_type": "code",
   "execution_count": null,
   "metadata": {},
   "outputs": [],
   "source": []
  },
  {
   "cell_type": "code",
   "execution_count": null,
   "metadata": {},
   "outputs": [],
   "source": []
  },
  {
   "cell_type": "code",
   "execution_count": null,
   "metadata": {},
   "outputs": [],
   "source": []
  },
  {
   "cell_type": "code",
   "execution_count": null,
   "metadata": {},
   "outputs": [],
   "source": []
  },
  {
   "cell_type": "code",
   "execution_count": null,
   "metadata": {},
   "outputs": [],
   "source": [
    "# leftover attempts at light controls\n",
    "\n",
    "from machine import Pin, I2C\n",
    "i2c = I2C(scl=Pin(15), sda=Pin(4), freq=450000)\n",
    "print(list(map(hex, i2c.scan())))\n",
    "# TCS3472 \n",
    "i2c.writeto_mem(0x29, 0x80, b'\\x03')\n",
    "print(hex(i2c.readfrom_mem(0x29, 0x92, 1)[0]))\n",
    "x = i2c.readfrom_mem(0x29, 0x8F, 1)  # gain of 1x\n",
    "print(x)\n",
    "x = i2c.readfrom_mem(0x29, 0x81, 1)\n",
    "print(x)\n",
    "print(hex(i2c.readfrom_mem(0x29, 0x92, 1)[0]))\n",
    "i2c.writeto_mem(0x29, 0x8F, b'\\x00')  # gain of 1x\n",
    "i2c.writeto_mem(0x29, 0x81, b'\\x00')  # integration time 700ms\n",
    "\n",
    "i2c.writeto_mem(0x29, 0x8F, b'\\x01')  # gain of 2x\n",
    "i2c.writeto_mem(0x29, 0x81, b'\\xC0')  # integration time 154ms\n",
    "\n",
    "i2c.writeto_mem(0x29, 0x8F, b'\\x02')  # gain of 4x\n",
    "i2c.writeto_mem(0x29, 0x81, b'\\xEB')  # integration time 50ms\n",
    "\n",
    "import struct, time\n",
    "t0 = time.ticks_ms()\n",
    "for i in range(20):\n",
    "    print(time.ticks_ms() - t0, struct.unpack(\"<HHHH\", i2c.readfrom_mem(0x29, 0x94, 8)))\n",
    "    time.sleep(0.01)"
   ]
  }
 ],
 "metadata": {
  "kernelspec": {
   "display_name": "MicroPython - USB",
   "language": "micropython",
   "name": "micropython"
  },
  "language_info": {
   "codemirror_mode": "python",
   "file_extension": ".py",
   "mimetype": "text/python",
   "name": "micropython"
  }
 },
 "nbformat": 4,
 "nbformat_minor": 2
}
