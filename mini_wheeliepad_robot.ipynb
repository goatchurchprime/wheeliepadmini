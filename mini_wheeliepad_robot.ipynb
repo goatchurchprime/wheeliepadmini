{
 "cells": [
  {
   "cell_type": "code",
   "execution_count": 13,
   "metadata": {},
   "outputs": [
    {
     "name": "stdout",
     "output_type": "stream",
     "text": [
      "\u001b[34mConnecting to --port=/dev/ttyUSB2 --baud=115200 \u001b[0m\n",
      "\u001b[34mReady.\n",
      "\u001b[0m"
     ]
    }
   ],
   "source": [
    "%serialconnect"
   ]
  },
  {
   "cell_type": "code",
   "execution_count": null,
   "metadata": {},
   "outputs": [],
   "source": [
    "# Pins on the arduino seeed motor shield\n",
    "#D8  OUT1\n",
    "#D9  enable Channel0\n",
    "#D10 enable Channel1\n",
    "#D11 OUT2\n",
    "#D12 OUT3\n",
    "#D13 OUT4\n"
   ]
  },
  {
   "cell_type": "code",
   "execution_count": null,
   "metadata": {},
   "outputs": [],
   "source": [
    "# below is the esp8266 version\n",
    "#      RST          |  GPIO1   TX\n",
    "#       A0          |  GPIO3   RX\n",
    "#       D0  GPIO16  |  GPIO5   D1  SCL\n",
    "# SCK   D5  GPIO14  |  GPIO4   D2  SDA\n",
    "# MISO  D6  GPIO12  |  GPIO0   D3\n",
    "# MOSI  D7  GPIO13  |  GPIO2   D4  LED\n",
    "# SS    D8  GPIO15  |          GND\n",
    "#      3V3          |          5V\n",
    "\n",
    "# You need the esp8266 code built with mqtt_as libraries\n",
    "# See https://github.com/goatchurchprime/jupyter_micropython_developer_notebooks/blob/master/mqtt_async_projects/esp8266_commissioning_mqtt_as.ipynb"
   ]
  },
  {
   "cell_type": "code",
   "execution_count": 9,
   "metadata": {},
   "outputs": [
    {
     "name": "stdout",
     "output_type": "stream",
     "text": [
      "Sent 12 lines (294 bytes) to config.txt.\n"
     ]
    }
   ],
   "source": [
    "%sendtofile config.txt\n",
    "\n",
    "wifiname        DoESLiverpool\n",
    "wifipassword    decafbad00\n",
    "mqttbroker      10.0.100.1\n",
    "pinled          2\n",
    "boardname       miniwheels1\n",
    "wifialt         DoESLiverpool,decafbad00,10.0.100.1\n",
    "mAen            5\n",
    "mAfore          14\n",
    "mAback          12\n",
    "mBen            4\n",
    "mBfore          13\n",
    "mBback          15\n"
   ]
  },
  {
   "cell_type": "code",
   "execution_count": 14,
   "metadata": {},
   "outputs": [
    {
     "name": "stdout",
     "output_type": "stream",
     "text": [
      "Sent 114 lines (3353 bytes) to main.py.\n"
     ]
    }
   ],
   "source": [
    "%sendtofile main.py\n",
    "\n",
    "from mqtt_as import MQTTClient, config\n",
    "import uasyncio as asyncio\n",
    "import os, time, machine\n",
    "from machine import Pin, PWM\n",
    "\n",
    "fconfig = dict(x.split()  for x in open(\"config.txt\"))\n",
    "pinled = Pin(int(fconfig[\"pinled\"]), Pin.OUT)\n",
    "\n",
    "mApwm = PWM(Pin(int(fconfig[\"mAen\"])))\n",
    "mAfore = Pin(int(fconfig[\"mAfore\"]), Pin.OUT)\n",
    "mAback = Pin(int(fconfig[\"mAback\"]), Pin.OUT)\n",
    "mApwm.freq(10)\n",
    "mApwm.duty(0)\n",
    "\n",
    "mBpwm = PWM(Pin(int(fconfig[\"mBen\"])))\n",
    "mBfore = Pin(int(fconfig[\"mBfore\"]), Pin.OUT)\n",
    "mBback = Pin(int(fconfig[\"mBback\"]), Pin.OUT)\n",
    "mBpwm.freq(10)\n",
    "mBpwm.duty(0)\n",
    "\n",
    "timeZeroBy = 1\n",
    "async def zeroingtask():\n",
    "    global timeZeroBy\n",
    "    while True:\n",
    "        if timeZeroBy != 0:\n",
    "            if time.ticks_ms() > timeZeroBy:\n",
    "                timeZeroBy = 0\n",
    "                mAfore.value(0)\n",
    "                mAback.value(0)\n",
    "                mBfore.value(0)\n",
    "                mBback.value(0)\n",
    "                pinled.value(1)\n",
    "        await asyncio.sleep_ms(50)\n",
    "\n",
    "\n",
    "def updatewheels(msg):\n",
    "    global timeZeroBy\n",
    "    try:\n",
    "        s = msg.split()\n",
    "        timeZeroBy = time.ticks_ms() + int(s[6])\n",
    "        mApwm.duty(int(s[0]))\n",
    "        mAfore.value(int(s[1]))\n",
    "        mAback.value(int(s[2]))\n",
    "        mBpwm.duty(int(s[3]))\n",
    "        mBfore.value(int(s[4]))\n",
    "        mBback.value(int(s[5]))\n",
    "        pinled.value(0)\n",
    "    except Exception as e:\n",
    "        print(\"Bad wheels\", msg, e)\n",
    "\n",
    "\n",
    "boardname = fconfig[\"boardname\"]\n",
    "tboardcmd = boardname.encode() + b\"/cmd\"\n",
    "tboardwheels = boardname.encode() + b\"/wheels\"\n",
    "\n",
    "for l in [\"500 1 0 500 1 0 1\", \"500 0 1 500 0 1 1\", \n",
    "          \"500 1 0 500 0 1 1\", \"500 0 1 500 1 0 1\", \"500 0 0 500 0 0 1\"]:\n",
    "    updatewheels(l)\n",
    "    time.sleep_ms(500)\n",
    "\n",
    "async def callbackcmdtask(cmd):\n",
    "    print(\"executing\", [cmd])\n",
    "    pinled.value(0)\n",
    "    try:\n",
    "        exec(cmd)\n",
    "        await client.publish(boardname+'/reply', \"1\")\n",
    "    except Exception as e:\n",
    "        print(e)\n",
    "        await client.publish(boardname+'/reply/exception', str(e))\n",
    "    pinled.value(1)\n",
    "\n",
    "def callbackcmd(topic, msg, retained):\n",
    "    if topic == tboardcmd:\n",
    "        aloop.create_task(callbackcmdtask(msg))\n",
    "    else:\n",
    "        updatewheels(msg)\n",
    "        \n",
    "async def onconnecttask(client):\n",
    "    print(\"subscribing\")\n",
    "    ipnumber = client._sta_if.ifconfig()[0]\n",
    "    print(\"ipnumber\", ipnumber)\n",
    "    await client.publish(boardname+'/ip', ipnumber, retain=True, qos=1)\n",
    "    print(\"subscribing to\", tboardcmd, tboardwheels)\n",
    "    await client.subscribe(tboardcmd, 1)\n",
    "    await client.subscribe(tboardwheels, 1)\n",
    "    \n",
    "async def mqtttask(bflip=False):\n",
    "    print(\"mqttttask\", bflip)\n",
    "    if bflip and \"wifialt\" in fconfig:\n",
    "        assid, awifi_pw, aserver = fconfig[\"wifialt\"].split(\",\")\n",
    "        if client._ssid == assid:\n",
    "            assid, awifi_pw, aserver = fconfig[\"wifiname\"], fconfig[\"wifipassword\"], fconfig[\"mqttbroker\"]\n",
    "        client._ssid, client._wifi_pw, client.server = assid, awifi_pw, aserver\n",
    "    try:\n",
    "        await client.connect()\n",
    "        return\n",
    "    except OSError as e:\n",
    "        print(\"client connect fail\", [e])\n",
    "    aloop.create_task(mqtttask(True))\n",
    "        \n",
    "        \n",
    "config['subs_cb'] = callbackcmd\n",
    "config['connect_coro'] = onconnecttask\n",
    "config['server'] = fconfig[\"mqttbroker\"]\n",
    "config['ssid'] = fconfig[\"wifiname\"]\n",
    "config['wifi_pw'] = fconfig[\"wifipassword\"]\n",
    "\n",
    "MQTTClient.DEBUG = True\n",
    "client = MQTTClient(config)\n",
    "\n",
    "aloop = asyncio.get_event_loop()\n",
    "aloop.create_task(mqtttask())\n",
    "aloop.create_task(zeroingtask())\n",
    "aloop.run_forever()\n"
   ]
  },
  {
   "cell_type": "code",
   "execution_count": null,
   "metadata": {},
   "outputs": [],
   "source": []
  }
 ],
 "metadata": {
  "kernelspec": {
   "display_name": "MicroPython - USB",
   "language": "micropython",
   "name": "micropython"
  },
  "language_info": {
   "codemirror_mode": "python",
   "file_extension": ".py",
   "mimetype": "text/python",
   "name": "micropython"
  }
 },
 "nbformat": 4,
 "nbformat_minor": 2
}
