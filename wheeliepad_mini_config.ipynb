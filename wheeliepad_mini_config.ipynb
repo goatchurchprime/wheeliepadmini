{
 "cells": [
  {
   "cell_type": "code",
   "execution_count": null,
   "metadata": {},
   "outputs": [],
   "source": [
    "%serialconnect"
   ]
  },
  {
   "cell_type": "code",
   "execution_count": null,
   "metadata": {},
   "outputs": [],
   "source": [
    "%sendtofile config.txt\n",
    "\n",
    "wifiname        DoESLiverpool\n",
    "wifipassword    decafbad00\n",
    "mqttbroker      test.mosquitto.org\n",
    "pinled          2\n",
    "boardname       miniwheels1\n",
    "wifialt         JulianS9,beckaaaa,test.mosquitto.org\n",
    "mAen            5\n",
    "mAfore          14\n",
    "mAback          12\n",
    "mBen            4\n",
    "mBfore          13\n",
    "mBback          15"
   ]
  }
 ],
 "metadata": {
  "kernelspec": {
   "display_name": "MicroPython - USB",
   "language": "micropython",
   "name": "micropython"
  },
  "language_info": {
   "codemirror_mode": "python",
   "file_extension": ".py",
   "mimetype": "text/python",
   "name": "micropython"
  }
 },
 "nbformat": 4,
 "nbformat_minor": 2
}
