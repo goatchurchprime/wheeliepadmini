{
 "cells": [
  {
   "cell_type": "code",
   "execution_count": null,
   "metadata": {},
   "outputs": [],
   "source": [
    "# We are going to use an RGB lightcell to control the wheels here"
   ]
  },
  {
   "cell_type": "code",
   "execution_count": 53,
   "metadata": {},
   "outputs": [
    {
     "name": "stdout",
     "output_type": "stream",
     "text": [
      "\u001b[34mConnecting to --port=/dev/ttyUSB4 --baud=115200 \u001b[0m\n",
      "\u001b[34mReady.\n",
      "\u001b[0m"
     ]
    }
   ],
   "source": [
    "%serialconnect"
   ]
  },
  {
   "cell_type": "code",
   "execution_count": 30,
   "metadata": {},
   "outputs": [
    {
     "name": "stdout",
     "output_type": "stream",
     "text": [
      "Sent 54 lines (1757 bytes) to TSL561_funcs.py.\n"
     ]
    }
   ],
   "source": [
    "%sendtofile --source /home/julian/repositories/jupyter_micropython_developer_notebooks/Sensor_Kennel/TSL561_funcs.py"
   ]
  },
  {
   "cell_type": "code",
   "execution_count": 29,
   "metadata": {},
   "outputs": [
    {
     "name": "stdout",
     "output_type": "stream",
     "text": [
      "Sent 5 lines (137 bytes) to config.txt.\n"
     ]
    }
   ],
   "source": [
    "%sendtofile config.txt\n",
    "\n",
    "wifiname        DoESLiverpool\n",
    "wifipassword    decafbad00\n",
    "mqttbroker      test.mosquitto.org\n",
    "pinled          2\n",
    "boardname       miniwheels2"
   ]
  },
  {
   "cell_type": "code",
   "execution_count": 31,
   "metadata": {},
   "outputs": [
    {
     "name": "stdout",
     "output_type": "stream",
     "text": [
      "(104, 13)\r\n"
     ]
    }
   ],
   "source": []
  },
  {
   "cell_type": "code",
   "execution_count": 54,
   "metadata": {},
   "outputs": [
    {
     "name": "stdout",
     "output_type": "stream",
     "text": [
      "Sent 85 lines (2602 bytes) to main.py.\n"
     ]
    }
   ],
   "source": [
    "%sendtofile main.py\n",
    "\n",
    "from machine import Pin, I2C\n",
    "from TSL561_funcs import setupTSL561, setregtimings, luminosity\n",
    "from mqtt_as import MQTTClient, config\n",
    "import uasyncio as asyncio\n",
    "\n",
    "fconfig = dict(x.split()  for x in open(\"config.txt\"))\n",
    "pinled = Pin(int(fconfig[\"pinled\"]), Pin.OUT)\n",
    "i2c = I2C(scl=Pin(5), sda=Pin(4))  # P5=D1=SCL, P4=D2=SDA\n",
    "setupTSL561(i2c)\n",
    "setregtimings(True, 0)  #integration_time = 0  # 0:13.7ms, 1:101ms, 2:402ms, or 3:manual\n",
    "\n",
    "boardname = fconfig[\"boardname\"]\n",
    "tlux = boardname.encode() + b\"/lux\"\n",
    "luxmsg = None\n",
    "\n",
    "async def ledtask():\n",
    "    while True:\n",
    "        pinled.value(0)\n",
    "        await asyncio.sleep_ms(20 if client.isconnected() else 1600)\n",
    "        pinled.value(1)\n",
    "        await asyncio.sleep_ms(2000)\n",
    "\n",
    "async def luxtask():\n",
    "    global luxmsg\n",
    "    br, ir = luminosity()\n",
    "    while True:\n",
    "        try:\n",
    "            nbr, nir = luminosity()\n",
    "        except OSError as e:\n",
    "            print(e)\n",
    "            await asyncio.sleep_ms(1000)\n",
    "            continue\n",
    "        if abs(nbr - br) >= 2 or abs(nir - ir) > 2:\n",
    "            br, ir = nbr, nir\n",
    "            print((br, ir))\n",
    "            luxmsg = \"%d %d\" % (br, ir)\n",
    "        await asyncio.sleep_ms(5)\n",
    "        \n",
    "async def publishtask():\n",
    "    global luxmsg\n",
    "    while True:\n",
    "        lluxmsg, luxmsg = luxmsg, None\n",
    "        if lluxmsg is not None:\n",
    "            await client.publish(tlux, lluxmsg)\n",
    "        await asyncio.sleep_ms(2)\n",
    "\n",
    "async def immediateluxpublishtask():\n",
    "    while True:\n",
    "        try:\n",
    "            br, ir = luminosity()\n",
    "        except OSError as e:\n",
    "            print(e)\n",
    "            await asyncio.sleep_ms(200)\n",
    "            continue\n",
    "        luxmsg = \"%d %d\" % (br, ir)\n",
    "        await client.publish(tlux, luxmsg)\n",
    "        \n",
    "async def mqtttask(bflip=False):\n",
    "    print(\"mqttttask\", bflip)\n",
    "    if bflip and \"wifialt\" in fconfig:\n",
    "        assid, awifi_pw, aserver = fconfig[\"wifialt\"].split(\",\")\n",
    "        if client._ssid == assid:\n",
    "            assid, awifi_pw, aserver = fconfig[\"wifiname\"], fconfig[\"wifipassword\"], fconfig[\"mqttbroker\"]\n",
    "        client._ssid, client._wifi_pw, client.server = assid, awifi_pw, aserver\n",
    "    try:\n",
    "        await client.connect()\n",
    "        return\n",
    "    except OSError as e:\n",
    "        print(\"client connect fail\", [e])\n",
    "    aloop.create_task(mqtttask(True))\n",
    "        \n",
    "config['server'] = fconfig[\"mqttbroker\"]\n",
    "config['ssid'] = fconfig[\"wifiname\"]\n",
    "config['wifi_pw'] = fconfig[\"wifipassword\"]\n",
    "\n",
    "MQTTClient.DEBUG = True\n",
    "client = MQTTClient(config)\n",
    "\n",
    "aloop = asyncio.get_event_loop()\n",
    "aloop.create_task(ledtask())\n",
    "#aloop.create_task(luxtask())\n",
    "#aloop.create_task(publishtask())\n",
    "aloop.create_task(immediateluxpublishtask())\n",
    "aloop.create_task(mqtttask())\n",
    "aloop.run_forever()"
   ]
  },
  {
   "cell_type": "code",
   "execution_count": 1,
   "metadata": {},
   "outputs": [
    {
     "name": "stdout",
     "output_type": "stream",
     "text": [
      "\u001b[34mConnecting to --port=/dev/ttyUSB3 --baud=115200 \u001b[0m\n",
      "\u001b[34mReady.\n",
      "\u001b[0m"
     ]
    }
   ],
   "source": [
    "%serialconnect"
   ]
  },
  {
   "cell_type": "code",
   "execution_count": 2,
   "metadata": {},
   "outputs": [
    {
     "name": "stdout",
     "output_type": "stream",
     "text": [
      "Listing directory '/'.\n",
      "      230    boot.py\n",
      "      231    config.txt\n",
      "     3353    main.py\n",
      "      960    utils.py\n"
     ]
    }
   ],
   "source": [
    "%ls"
   ]
  },
  {
   "cell_type": "code",
   "execution_count": null,
   "metadata": {},
   "outputs": [],
   "source": [
    "#%fetchfile --load main.py\n",
    "\n",
    "from mqtt_as import MQTTClient, config\n",
    "import uasyncio as asyncio\n",
    "import os, time, machine\n",
    "from machine import Pin, PWM\n",
    "\n",
    "fconfig = dict(x.split()  for x in open(\"config.txt\"))\n",
    "pinled = Pin(int(fconfig[\"pinled\"]), Pin.OUT)\n",
    "\n",
    "mApwm = PWM(Pin(int(fconfig[\"mAen\"])))\n",
    "mAfore = Pin(int(fconfig[\"mAfore\"]), Pin.OUT)\n",
    "mAback = Pin(int(fconfig[\"mAback\"]), Pin.OUT)\n",
    "mApwm.freq(10)\n",
    "mApwm.duty(0)\n",
    "\n",
    "mBpwm = PWM(Pin(int(fconfig[\"mBen\"])))\n",
    "mBfore = Pin(int(fconfig[\"mBfore\"]), Pin.OUT)\n",
    "mBback = Pin(int(fconfig[\"mBback\"]), Pin.OUT)\n",
    "mBpwm.freq(10)\n",
    "mBpwm.duty(0)\n",
    "\n",
    "timeZeroBy = 1\n",
    "async def zeroingtask():\n",
    "    global timeZeroBy\n",
    "    while True:\n",
    "        if timeZeroBy != 0:\n",
    "            if time.ticks_ms() > timeZeroBy:\n",
    "                timeZeroBy = 0\n",
    "                mAfore.value(0)\n",
    "                mAback.value(0)\n",
    "                mBfore.value(0)\n",
    "                mBback.value(0)\n",
    "                pinled.value(1)\n",
    "        await asyncio.sleep_ms(50)\n",
    "\n",
    "\n",
    "def updatewheels(msg):\n",
    "    global timeZeroBy\n",
    "    try:\n",
    "        s = msg.split()\n",
    "        timeZeroBy = time.ticks_ms() + int(s[6])\n",
    "        mApwm.duty(int(s[0]))\n",
    "        mAfore.value(int(s[1]))\n",
    "        mAback.value(int(s[2]))\n",
    "        mBpwm.duty(int(s[3]))\n",
    "        mBfore.value(int(s[4]))\n",
    "        mBback.value(int(s[5]))\n",
    "        pinled.value(0)\n",
    "    except Exception as e:\n",
    "        print(\"Bad wheels\", msg, e)\n",
    "\n",
    "\n",
    "boardname = fconfig[\"boardname\"]\n",
    "tboardcmd = boardname.encode() + b\"/cmd\"\n",
    "tboardwheels = boardname.encode() + b\"/wheels\"\n",
    "\n",
    "for l in [\"500 1 0 500 1 0 1\", \"500 0 1 500 0 1 1\", \n",
    "          \"500 1 0 500 0 1 1\", \"500 0 1 500 1 0 1\", \"500 0 0 500 0 0 1\"]:\n",
    "    updatewheels(l)\n",
    "    time.sleep_ms(500)\n",
    "\n",
    "async def callbackcmdtask(cmd):\n",
    "    print(\"executing\", [cmd])\n",
    "    pinled.value(0)\n",
    "    try:\n",
    "        exec(cmd)\n",
    "        await client.publish(boardname+'/reply', \"1\")\n",
    "    except Exception as e:\n",
    "        print(e)\n",
    "        await client.publish(boardname+'/reply/exception', str(e))\n",
    "    pinled.value(1)\n",
    "\n",
    "def callbackcmd(topic, msg, retained):\n",
    "    if topic == tboardcmd:\n",
    "        aloop.create_task(callbackcmdtask(msg))\n",
    "    else:\n",
    "        updatewheels(msg)\n",
    "        \n",
    "async def onconnecttask(client):\n",
    "    print(\"subscribing\")\n",
    "    ipnumber = client._sta_if.ifconfig()[0]\n",
    "    print(\"ipnumber\", ipnumber)\n",
    "    await client.publish(boardname+'/ip', ipnumber, retain=True, qos=1)\n",
    "    print(\"subscribing to\", tboardcmd, tboardwheels)\n",
    "    await client.subscribe(tboardcmd, 1)\n",
    "    await client.subscribe(tboardwheels, 1)\n",
    "    \n",
    "async def mqtttask(bflip=False):\n",
    "    print(\"mqttttask\", bflip)\n",
    "    if bflip and \"wifialt\" in fconfig:\n",
    "        assid, awifi_pw, aserver = fconfig[\"wifialt\"].split(\",\")\n",
    "        if client._ssid == assid:\n",
    "            assid, awifi_pw, aserver = fconfig[\"wifiname\"], fconfig[\"wifipassword\"], fconfig[\"mqttbroker\"]\n",
    "        client._ssid, client._wifi_pw, client.server = assid, awifi_pw, aserver\n",
    "    try:\n",
    "        await client.connect()\n",
    "        return\n",
    "    except OSError as e:\n",
    "        print(\"client connect fail\", [e])\n",
    "    aloop.create_task(mqtttask(True))\n",
    "        \n",
    "        \n",
    "config['subs_cb'] = callbackcmd\n",
    "config['connect_coro'] = onconnecttask\n",
    "config['server'] = fconfig[\"mqttbroker\"]\n",
    "config['ssid'] = fconfig[\"wifiname\"]\n",
    "config['wifi_pw'] = fconfig[\"wifipassword\"]\n",
    "\n",
    "MQTTClient.DEBUG = True\n",
    "client = MQTTClient(config)\n",
    "\n",
    "aloop = asyncio.get_event_loop()\n",
    "aloop.create_task(mqtttask())\n",
    "aloop.create_task(zeroingtask())\n",
    "aloop.run_forever()\n"
   ]
  },
  {
   "cell_type": "code",
   "execution_count": null,
   "metadata": {},
   "outputs": [],
   "source": []
  }
 ],
 "metadata": {
  "kernelspec": {
   "display_name": "MicroPython - USB",
   "language": "micropython",
   "name": "micropython"
  },
  "language_info": {
   "codemirror_mode": "python",
   "file_extension": ".py",
   "mimetype": "text/python",
   "name": "micropython"
  }
 },
 "nbformat": 4,
 "nbformat_minor": 2
}
