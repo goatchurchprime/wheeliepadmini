{
 "cells": [
  {
   "cell_type": "code",
   "execution_count": null,
   "metadata": {},
   "outputs": [],
   "source": [
    "# The script below uses the output from webcam_cart_floorplane_calibration\n",
    "# to directly project the square into the floor plane\n",
    "# (It could be run in a script to make it easier)"
   ]
  },
  {
   "cell_type": "code",
   "execution_count": 46,
   "metadata": {},
   "outputs": [],
   "source": [
    "import numpy as np\n",
    "import cv2\n",
    "\n",
    "imageSize = (640, 480)\n",
    "cameraMatrix = np.\\\n",
    "array([[1.46536470e+03, 0.00000000e+00, 2.41959708e+02],\n",
    "       [0.00000000e+00, 1.46536470e+03, 3.98210895e+02],\n",
    "       [0.00000000e+00, 0.00000000e+00, 1.00000000e+00]])\n",
    "distCoeffs = np.array([[ 1.24767578e-01,  1.05001101e+01,  3.51748275e-02,\n",
    "        -7.35526444e-03,  1.24203812e+03]])\n",
    "markerLength = 0.080  # dimension in metres\n",
    "\n",
    "plane0 = np.array([0.4150638 , 0.09830259, 1.46671931])\n",
    "planeX = np.array([-0.05775419, -0.82797921,  0.55777672])\n",
    "planeY = np.array([-0.99033931, -0.02303593, -0.13673844])\n",
    "planeZ = np.array([ 0.1260655 , -0.56028543, -0.81864994])\n",
    "dot0Z = sum(plane0*planeZ)\n",
    "\n",
    "def projecttofloorplane(iu, iv):\n",
    "    cu, cv = cv2.undistortPoints(np.array([iu, iv]), cameraMatrix, distCoeffs)[0][0]\n",
    "    # Solve (cu*k, cv*k, k) . planeZ = dot0Z \n",
    "    k = dot0Z / sum(planeZ*np.array([cu, cv, 1]))\n",
    "    p = np.array([cu*k, cv*k, k])\n",
    "    pu = sum((p - plane0)*planeX)\n",
    "    pv = sum((p - plane0)*planeY)\n",
    "    return pu, pv\n",
    "\n",
    "def cornersprojecttofloorplane(corners):\n",
    "    cuvs = cv2.undistortPoints(corners, cameraMatrix, distCoeffs)\n",
    "    puvs = [ ]\n",
    "    for cuv in cuvs:\n",
    "        cu, cv = cuv[0]\n",
    "        # Solve (cu*k, cv*k, k) . planeZ = dot0Z \n",
    "        k = dot0Z / sum(planeZ*np.array([cu, cv, 1]))\n",
    "        p = np.array([cu*k, cv*k, k])\n",
    "        pu = sum((p - plane0)*planeX)\n",
    "        pv = sum((p - plane0)*planeY)\n",
    "        puvs.append([pu, pv])\n",
    "    return puvs\n"
   ]
  },
  {
   "cell_type": "code",
   "execution_count": 47,
   "metadata": {},
   "outputs": [
    {
     "ename": "KeyboardInterrupt",
     "evalue": "",
     "output_type": "error",
     "traceback": [
      "\u001b[0;31m---------------------------------------------------------------------------\u001b[0m",
      "\u001b[0;31mKeyboardInterrupt\u001b[0m                         Traceback (most recent call last)",
      "\u001b[0;32m<ipython-input-47-6d691ce63bc0>\u001b[0m in \u001b[0;36m<module>\u001b[0;34m\u001b[0m\n\u001b[1;32m     19\u001b[0m \u001b[0mparameters\u001b[0m \u001b[0;34m=\u001b[0m  \u001b[0mcv2\u001b[0m\u001b[0;34m.\u001b[0m\u001b[0maruco\u001b[0m\u001b[0;34m.\u001b[0m\u001b[0mDetectorParameters_create\u001b[0m\u001b[0;34m(\u001b[0m\u001b[0;34m)\u001b[0m\u001b[0;34m\u001b[0m\u001b[0;34m\u001b[0m\u001b[0m\n\u001b[1;32m     20\u001b[0m \u001b[0;32mwhile\u001b[0m\u001b[0;34m(\u001b[0m\u001b[0;32mTrue\u001b[0m\u001b[0;34m)\u001b[0m\u001b[0;34m:\u001b[0m\u001b[0;34m\u001b[0m\u001b[0;34m\u001b[0m\u001b[0m\n\u001b[0;32m---> 21\u001b[0;31m     \u001b[0;32mif\u001b[0m \u001b[0;32mnot\u001b[0m \u001b[0mcap\u001b[0m\u001b[0;34m.\u001b[0m\u001b[0mgrab\u001b[0m\u001b[0;34m(\u001b[0m\u001b[0;34m)\u001b[0m\u001b[0;34m:\u001b[0m\u001b[0;34m\u001b[0m\u001b[0;34m\u001b[0m\u001b[0m\n\u001b[0m\u001b[1;32m     22\u001b[0m         \u001b[0mtime\u001b[0m\u001b[0;34m.\u001b[0m\u001b[0msleep\u001b[0m\u001b[0;34m(\u001b[0m\u001b[0;36m0.01\u001b[0m\u001b[0;34m)\u001b[0m\u001b[0;34m\u001b[0m\u001b[0;34m\u001b[0m\u001b[0m\n\u001b[1;32m     23\u001b[0m         \u001b[0;32mcontinue\u001b[0m\u001b[0;34m\u001b[0m\u001b[0;34m\u001b[0m\u001b[0m\n",
      "\u001b[0;31mKeyboardInterrupt\u001b[0m: "
     ]
    }
   ],
   "source": [
    "import numpy as np\n",
    "import cv2, json, math, time\n",
    "import paho.mqtt.client as mqtt\n",
    "\n",
    "arucocartkey = \"aruco3\"\n",
    "\n",
    "client = mqtt.Client(\"miniwheels1\")\n",
    "client.connect(\"sensorcity.io\")\n",
    "\n",
    "winSize, zeroZone, criteria = (5, 5), (-1, -1), (cv2.TERM_CRITERIA_EPS + cv2.TERM_CRITERIA_COUNT, 30, 0.1)\n",
    "\n",
    "aruco_dict = cv2.aruco.Dictionary_get(cv2.aruco.DICT_4X4_50)\n",
    "parameters =  cv2.aruco.DetectorParameters_create()\n",
    "cap = cv2.VideoCapture(2)  # works on webcam plugged in\n",
    "cap.set(cv2.CAP_PROP_SHARPNESS, 1)\n",
    "cap.set(cv2.CAP_PROP_BRIGHTNESS, 80)\n",
    "\n",
    "aruco_dict = cv2.aruco.Dictionary_get(cv2.aruco.DICT_4X4_50)\n",
    "parameters =  cv2.aruco.DetectorParameters_create()\n",
    "while(True):\n",
    "    if not cap.grab():\n",
    "        time.sleep(0.01)\n",
    "        continue\n",
    "\n",
    "    ret, frame = cap.read()\n",
    "    gframe = cv2.cvtColor(frame, cv2.COLOR_BGR2GRAY)\n",
    "    corners, ids, rejectedImgPoints = cv2.aruco.detectMarkers(frame, aruco_dict, parameters=parameters)\n",
    "    puvs = None\n",
    "    for i in range(len(ids) if ids is not None else 0):\n",
    "        key = \"aruco%d\"%ids[i][0]\n",
    "        if key == arucocartkey:\n",
    "            cv2.cornerSubPix(gframe, corners[0], winSize, zeroZone, criteria)\n",
    "            puvs = cornersprojecttofloorplane(corners[0])\n",
    "            break\n",
    "    if puvs is not None:\n",
    "        xC = sum(X[0]  for X in puvs)/4\n",
    "        yC = sum(X[1]  for X in puvs)/4\n",
    "        vx = puvs[0][0] - xC\n",
    "        vy = puvs[0][1] - yC\n",
    "        theta = math.degrees(math.atan2(vx, vy)) + 45\n",
    "        \n",
    "        res = {\"theta\":(theta+360)%360, \"x\":xC, \"y\":yC }\n",
    "        client.publish(\"miniwheels1/jppos\", json.dumps(res))\n",
    "\n",
    "cap.release()\n"
   ]
  },
  {
   "cell_type": "code",
   "execution_count": 48,
   "metadata": {},
   "outputs": [],
   "source": [
    "cap.release()\n"
   ]
  },
  {
   "cell_type": "code",
   "execution_count": null,
   "metadata": {},
   "outputs": [],
   "source": []
  },
  {
   "cell_type": "code",
   "execution_count": null,
   "metadata": {},
   "outputs": [],
   "source": []
  },
  {
   "cell_type": "code",
   "execution_count": null,
   "metadata": {},
   "outputs": [],
   "source": []
  },
  {
   "cell_type": "code",
   "execution_count": null,
   "metadata": {},
   "outputs": [],
   "source": []
  },
  {
   "cell_type": "code",
   "execution_count": null,
   "metadata": {},
   "outputs": [],
   "source": []
  },
  {
   "cell_type": "code",
   "execution_count": 35,
   "metadata": {},
   "outputs": [
    {
     "data": {
      "text/plain": [
       "[<matplotlib.lines.Line2D at 0x7f7f9d4766d0>]"
      ]
     },
     "execution_count": 35,
     "metadata": {},
     "output_type": "execute_result"
    },
    {
     "data": {
      "image/png": "[encoded data removed]",
      "text/plain": [
       "<Figure size 432x288 with 1 Axes>"
      ]
     },
     "metadata": {
      "needs_background": "light"
     },
     "output_type": "display_data"
    }
   ],
   "source": [
    "from matplotlib import pyplot as plt\n",
    "%matplotlib inline\n"
   ]
  },
  {
   "cell_type": "code",
   "execution_count": 19,
   "metadata": {},
   "outputs": [
    {
     "data": {
      "text/plain": [
       "array([[[-0.01530666, -0.09315329]],\n",
       "\n",
       "       [[ 0.01478926, -0.09534159]],\n",
       "\n",
       "       [[ 0.01930351, -0.06898478]],\n",
       "\n",
       "       [[-0.01391981, -0.06655851]]], dtype=float32)"
      ]
     },
     "execution_count": 19,
     "metadata": {},
     "output_type": "execute_result"
    }
   ],
   "source": [
    "cv2.undistortPoints(corners[0], cameraMatrix, distCoeffs)\n"
   ]
  },
  {
   "cell_type": "code",
   "execution_count": 23,
   "metadata": {},
   "outputs": [
    {
     "name": "stdout",
     "output_type": "stream",
     "text": [
      "[[-0.01530666 -0.09315329]]\n",
      "[[ 0.01478926 -0.09534159]]\n",
      "[[ 0.01930351 -0.06898478]]\n",
      "[[-0.01391981 -0.06655851]]\n"
     ]
    }
   ],
   "source": [
    "cuvs = cv2.undistortPoints(corners[0], cameraMatrix, distCoeffs)\n",
    "for cuv in cuvs:\n",
    "    print(cuv)"
   ]
  },
  {
   "cell_type": "code",
   "execution_count": 26,
   "metadata": {},
   "outputs": [
    {
     "data": {
      "text/plain": [
       "[[0.283064301831845, 0.4268129287596514],\n",
       " [0.2897291928271939, 0.3786730387686836],\n",
       " [0.2372442183308719, 0.3751086276921354],\n",
       " [0.23037587366502463, 0.4272782809845356]]"
      ]
     },
     "execution_count": 26,
     "metadata": {},
     "output_type": "execute_result"
    }
   ],
   "source": []
  },
  {
   "cell_type": "code",
   "execution_count": 12,
   "metadata": {},
   "outputs": [
    {
     "data": {
      "text/plain": [
       "array([[[219.51239, 262.6449 ],\n",
       "        [263.44757, 259.51862],\n",
       "        [270.07645, 297.79718],\n",
       "        [221.58476, 301.2633 ]]], dtype=float32)"
      ]
     },
     "execution_count": 12,
     "metadata": {},
     "output_type": "execute_result"
    }
   ],
   "source": [
    "cv2.cornerSubPix(gframe, corners[0], winSize, zeroZone, criteria)\n"
   ]
  },
  {
   "cell_type": "code",
   "execution_count": 13,
   "metadata": {},
   "outputs": [
    {
     "data": {
      "text/plain": [
       "array([[[219.51239, 262.6449 ],\n",
       "        [263.44757, 259.51862],\n",
       "        [270.07645, 297.79718],\n",
       "        [221.58476, 301.2633 ]]], dtype=float32)"
      ]
     },
     "execution_count": 13,
     "metadata": {},
     "output_type": "execute_result"
    }
   ],
   "source": [
    "corners[0]"
   ]
  },
  {
   "cell_type": "code",
   "execution_count": null,
   "metadata": {},
   "outputs": [],
   "source": [
    "# Old version which did the projections directly! (and was unreliable)\n",
    "import numpy as np\n",
    "import cv2, json, math\n",
    "import paho.mqtt.client as mqtt\n",
    "\n",
    "arucocartkey = \"aruco3\"\n",
    "\n",
    "client = mqtt.Client(\"miniwheels1\")\n",
    "client.connect(\"sensorcity.io\")\n",
    "\n",
    "winSize, zeroZone, criteria = (5, 5), (-1, -1), (cv2.TERM_CRITERIA_EPS + cv2.TERM_CRITERIA_COUNT, 30, 0.1)\n",
    "\n",
    "aruco_dict = cv2.aruco.Dictionary_get(cv2.aruco.DICT_4X4_50)\n",
    "parameters =  cv2.aruco.DetectorParameters_create()\n",
    "cap = cv2.VideoCapture(1)  # works on webcam plugged in\n",
    "cap.set(cv2.CAP_PROP_SHARPNESS, 1)\n",
    "cap.set(cv2.CAP_PROP_BRIGHTNESS, 80)\n",
    "\n",
    "aruco_dict = cv2.aruco.Dictionary_get(cv2.aruco.DICT_4X4_50)\n",
    "parameters =  cv2.aruco.DetectorParameters_create()\n",
    "while(True):\n",
    "    ret, frame = cap.read()\n",
    "    gframe = cv2.cvtColor(frame, cv2.COLOR_BGR2GRAY)\n",
    "    corners, ids, rejectedImgPoints = cv2.aruco.detectMarkers(frame, aruco_dict, parameters=parameters)\n",
    "    for corner in corners:\n",
    "        cv2.cornerSubPix(gframe, corner, winSize, zeroZone, criteria)\n",
    "    #crvecs, ctvecs, _objPoints = cv2.aruco.estimatePoseSingleMarkers(corners, markerLength, cameraMatrix, distCoeffs)\n",
    "    res = {}\n",
    "    for i in range(len(ids) if ids is not None else 0):\n",
    "        m = cv2.Rodrigues(crvecs[i])[0]\n",
    "        theta = math.degrees(math.atan2(m[1][0], m[1][1]))\n",
    "        res[\"aruco%d\"%ids[i][0]] = {\"theta\":theta, \"tvec\":list(ctvecs[i][0]) }\n",
    "    client.publish(\"miniwheels1/jrpos\", json.dumps(res))"
   ]
  }
 ],
 "metadata": {
  "kernelspec": {
   "display_name": "Python 3",
   "language": "python",
   "name": "python3"
  },
  "language_info": {
   "codemirror_mode": {
    "name": "ipython",
    "version": 3
   },
   "file_extension": ".py",
   "mimetype": "text/x-python",
   "name": "python",
   "nbconvert_exporter": "python",
   "pygments_lexer": "ipython3",
   "version": "3.7.4"
  }
 },
 "nbformat": 4,
 "nbformat_minor": 2
}
